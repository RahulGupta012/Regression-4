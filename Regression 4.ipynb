{
 "cells": [
  {
   "cell_type": "markdown",
   "id": "5a25606e-9aa0-4366-8ba6-f3c20f6de4a3",
   "metadata": {},
   "source": [
    "# REGRESSION 04"
   ]
  },
  {
   "cell_type": "markdown",
   "id": "76f46cf7-eda8-4c25-9e5b-d5ad4d6c02c4",
   "metadata": {},
   "source": [
    "________________________________________________________________________________________________"
   ]
  },
  {
   "cell_type": "markdown",
   "id": "bb7fc476-4ddc-4f6c-adb7-46af90a27e14",
   "metadata": {},
   "source": [
    "\n",
    "\n",
    "# Q. What is Lasso Regression, and how does it differ from other regression techniques?"
   ]
  },
  {
   "cell_type": "markdown",
   "id": "4761c58c-058d-419c-8a73-488c1f71e392",
   "metadata": {},
   "source": [
    "Lassso regression is a feature selcting regression , which make those feature value zero, which are very low correlated to the dependent feature. It is also called L1 Regulazation and penalized regression method. Lasso regression is known for increasing the predction accuracy of the model. It is differ from the other regressions as Ridge... because that specific regression is focused on reducing the overfitting (in some cases feature selection also) only while the lasso regression has the ability feature selection and overfitting.\n",
    "For the same value of alpha lasso coffient are much smaller than the ridge regression."
   ]
  },
  {
   "cell_type": "markdown",
   "id": "ea480948-465a-4e0c-8e40-9441b6cd8bcf",
   "metadata": {},
   "source": [
    "# Q. What is the main advantage of using Lasso Regression in feature selection?"
   ]
  },
  {
   "cell_type": "markdown",
   "id": "5ad041eb-73c5-459c-ba3f-dac4e18cbf16",
   "metadata": {},
   "source": [
    "These are two main advantages of lasso regression that :\n",
    "   -  1.Automatic feature selection\n",
    "   -   2.Reducing overfitting."
   ]
  },
  {
   "cell_type": "markdown",
   "id": "331fec01-538b-4fca-952b-3ed03c4ee5bc",
   "metadata": {},
   "source": [
    "# Q. How do you interpret the coefficients of a Lasso Regression model?"
   ]
  },
  {
   "cell_type": "markdown",
   "id": "a0751f28-b5c3-498f-b0c2-e13ade0ffee4",
   "metadata": {},
   "source": [
    "Lasso Regression , for their feature selection always finding to make the coffiecent of varibales zero.In other words lasso regression always shrink the cofficients towards zero, even when lembda is too large the cofficients are allmost become zero. "
   ]
  },
  {
   "cell_type": "markdown",
   "id": "b52ae0b4-6c2c-42b4-81ec-18558e1d958d",
   "metadata": {},
   "source": [
    "# Q. What are the tuning parameters that can be adjusted in Lasso Regression, and how do they affect the model's performance?# "
   ]
  },
  {
   "cell_type": "markdown",
   "id": "61055a2c-7c4b-49ae-86b7-e7534a616396",
   "metadata": {},
   "source": [
    "tuning perametar is basicaaly denoted by lambda. A large value of lambda , as we discussed , is shrink the cofficient to more towards zero, and high value of lambda is increasing the amount of regulaztion perametar....vice versa"
   ]
  },
  {
   "cell_type": "markdown",
   "id": "4c75379d-ec21-4aad-aa6a-35d1c4c11d34",
   "metadata": {},
   "source": [
    "# Q. Can Lasso Regression be used for non-linear regression problems? If yes, how?"
   ]
  },
  {
   "cell_type": "markdown",
   "id": "60e8494f-d589-465f-bea6-0c5696c97ea6",
   "metadata": {},
   "source": [
    "Yes..By using polynominal regression concept we can used the lasso regression for non-liner regression."
   ]
  },
  {
   "cell_type": "markdown",
   "id": "3cd3b096-edcf-4dc4-8237-5c6d87ff9f42",
   "metadata": {},
   "source": [
    "# Q. How do you choose the optimal value of the regularization parameter (lambda) in Lasso Regression?"
   ]
  },
  {
   "cell_type": "markdown",
   "id": "08e6394d-12d6-4daa-aab8-efd10af31aff",
   "metadata": {},
   "source": [
    "There are two main methods for choosing the optimal value of the regularization parameter lambda in lasso regression:\n",
    "\n",
    "Grid search: Trying the different values within a relevent range and examine the model performance on that certain values. whenever the predictions as high accuracy, consider that value as optimal value.\n",
    "\n",
    "Cross-validation: Dividing the training data into number of folds and try each fold for considering the optimal value of lambda."
   ]
  },
  {
   "cell_type": "code",
   "execution_count": null,
   "id": "03aee859-394f-4c8b-8177-ee6f59905d3a",
   "metadata": {},
   "outputs": [],
   "source": []
  }
 ],
 "metadata": {
  "kernelspec": {
   "display_name": "Python 3 (ipykernel)",
   "language": "python",
   "name": "python3"
  },
  "language_info": {
   "codemirror_mode": {
    "name": "ipython",
    "version": 3
   },
   "file_extension": ".py",
   "mimetype": "text/x-python",
   "name": "python",
   "nbconvert_exporter": "python",
   "pygments_lexer": "ipython3",
   "version": "3.10.8"
  }
 },
 "nbformat": 4,
 "nbformat_minor": 5
}
